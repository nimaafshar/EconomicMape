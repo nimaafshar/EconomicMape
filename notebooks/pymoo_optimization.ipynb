{
 "cells": [
  {
   "cell_type": "code",
   "execution_count": 1,
   "metadata": {},
   "outputs": [],
   "source": [
    "import numpy as np\n",
    "from pymoo.algorithms.nsga2 import NSGA2\n",
    "from pymoo.factory import get_problem,get_termination\n",
    "from pymoo.optimize import minimize\n",
    "from pymoo.visualization.scatter import Scatter\n",
    "from pymoo.model.problem import Problem"
   ]
  },
  {
   "cell_type": "code",
   "execution_count": 2,
   "metadata": {},
   "outputs": [],
   "source": [
    "#defining problem\n",
    "class AdaptationProblem(Problem):\n",
    "    \"\"\"\n",
    "    response times are filled based on papers values(page8-table1)\n",
    "    \"\"\"\n",
    "    def __init__(self,\n",
    "                landa=50, #arrival rate (req/s)\n",
    "                n=10, #average data payload for each request (KB)\n",
    "                p_i=2.64E-04, #cost of a VM ($/s)\n",
    "                p_n=3.50E-06, #cost of data transfer ($/KB)\n",
    "                H=8.50E-05, #static Hosting cost ($/s)\n",
    "                RPM=0.7, #revenue per 1000 ads ($)\n",
    "                R=100, #response time (ms)\n",
    "                gamma_l=1, #gamma lower bound (gamma is average number of ad banners per page)\n",
    "                gamma_u=10, #gamma upper bound\n",
    "                R_l=45, # respose time lower bound\n",
    "                R_u=200, # response time upper bound\n",
    "                d_l=15, #capacity of each VM lower bound(request/s)\n",
    "                d_u=21 #capacity of each VM upper bound(request/s)\n",
    "                ): \n",
    "        self.landa = landa\n",
    "        self.n = n\n",
    "        self.p_i = p_i\n",
    "        self.p_n = p_n\n",
    "        self.H = H\n",
    "        self.RPM = RPM\n",
    "        self.R = R\n",
    "        self.gamma_l = gamma_l\n",
    "        self.gamma_u = gamma_u\n",
    "        self.R_l = R_l\n",
    "        self.R_u = R_u\n",
    "        self.d_l = d_l\n",
    "        self.d_u = d_u\n",
    "        #weights in user satisfaction formula\n",
    "        self.a = 0.5\n",
    "        self.b = 0.5\n",
    "        #p_s doesn't have any bound so we should feed algorithm \n",
    "        #a very high number for upper bound and 0 (logically) for lower bound\n",
    "        super().__init__(n_var=3, #p_s,W,gamma\n",
    "                         n_obj=3, #pi_s,pi_a,U\n",
    "                         n_constr=4,\n",
    "                         xl=np.array([0,landa/d_u,gamma_l]),\n",
    "                         xu=np.array([10000,landa/d_l,gamma_u]))\n",
    "\n",
    "    def _evaluate(self, x, out, *args, **kwargs):\n",
    "        #objectives\n",
    "        #to maximize objectives we multipy them by -1 and then minimize them \n",
    "        #objectives are not normalized. test normalization on results\n",
    "        d = self.landa/x[:,1]\n",
    "        rel_d = (d - self.d_l) / (self.d_u - self.d_l)\n",
    "        R = ((self.R_u-self.R_l)*rel_d) + self.R_l\n",
    "        pi_s = x[:,0]*self.landa - self.p_i*x[:,1] - self.n*self.p_n*self.landa\n",
    "        pi_a = (x[:,2]*self.RPM/1000)*self.landa - self.H*self.landa - x[:,0]*self.landa\n",
    "        U = self.a*((self.gamma_u-x[:,2])/(self.gamma_u-self.gamma_l)) + self.b*((self.R_u-R)/(self.R_u-self.R_l))\n",
    "        \n",
    "        out[\"F\"] = np.column_stack([-1*pi_s, -1*pi_a,-1*U])\n",
    "            \n",
    "        #constrains (equations are filped in a way that they would be less than zero)\n",
    "        g1 = x[:,0] - (x[:,2]*self.RPM/1000)\n",
    "        g2 = -1*(pi_s)\n",
    "        g3 = -1*(pi_a)\n",
    "        g4 = (0.8 - U)\n",
    "\n",
    "        out[\"G\"] = np.column_stack([g1, g2, g3, g4])\n"
   ]
  },
  {
   "cell_type": "code",
   "execution_count": 3,
   "metadata": {},
   "outputs": [
    {
     "name": "stdout",
     "output_type": "stream",
     "text": [
      "\n",
      "Compiled modules for significant speedup can not be used!\n",
      "https://pymoo.org/installation.html#installation\n",
      "\n",
      "To disable this warning:\n",
      "from pymoo.configuration import Configuration\n",
      "Configuration.show_compile_hint = False\n",
      "\n"
     ]
    }
   ],
   "source": [
    "#defining algorithm\n",
    "algorithm = NSGA2(\n",
    "    pop_size=100,\n",
    "    n_offsprings=10,\n",
    "    eliminate_duplicates=True\n",
    ")"
   ]
  },
  {
   "cell_type": "code",
   "execution_count": 4,
   "metadata": {},
   "outputs": [],
   "source": [
    "#defining termination\n",
    "termination = get_termination('n_gen',130)"
   ]
  },
  {
   "cell_type": "code",
   "execution_count": 5,
   "metadata": {},
   "outputs": [
    {
     "name": "stdout",
     "output_type": "stream",
     "text": [
      "====================================================================================================\n",
      "n_gen |  n_eval |   cv (min)   |   cv (avg)   |  n_nds  | delta_ideal  | delta_nadir  |   delta_f   \n",
      "====================================================================================================\n",
      "    1 |     100 |  2.25715E+03 |  2.38242E+05 |       1 |            - |            - |            -\n",
      "    2 |     110 |  2.25715E+03 |  2.03220E+05 |       1 |  0.00000E+00 |  0.00000E+00 |  0.00000E+00\n",
      "    3 |     120 |  2.25715E+03 |  1.77193E+05 |       1 |  0.00000E+00 |  0.00000E+00 |  0.00000E+00\n",
      "    4 |     130 |  7.89814E+02 |  1.54372E+05 |       1 |  1.43837E+03 |  1.43837E+03 |  2.03414E+33\n",
      "    5 |     140 |  7.89814E+02 |  1.36213E+05 |       1 |  0.00000E+00 |  0.00000E+00 |  0.00000E+00\n",
      "    6 |     150 |  7.89814E+02 |  1.16290E+05 |       1 |  0.00000E+00 |  0.00000E+00 |  0.00000E+00\n",
      "    7 |     160 |  7.89814E+02 |  9.86878E+04 |       1 |  0.00000E+00 |  0.00000E+00 |  0.00000E+00\n",
      "    8 |     170 |  7.89814E+02 |  8.36049E+04 |       1 |  0.00000E+00 |  0.00000E+00 |  0.00000E+00\n",
      "    9 |     180 |  7.89814E+02 |  7.10416E+04 |       1 |  0.00000E+00 |  0.00000E+00 |  0.00000E+00\n",
      "   10 |     190 |  7.89814E+02 |  6.07852E+04 |       1 |  0.00000E+00 |  0.00000E+00 |  0.00000E+00\n",
      "   11 |     200 |  7.89814E+02 |  5.09189E+04 |       1 |  0.00000E+00 |  0.00000E+00 |  0.00000E+00\n",
      "   12 |     210 |  1.46303E+02 |  4.14752E+04 |       1 |  6.30893E+02 |  6.30893E+02 |  8.92217E+32\n",
      "   13 |     220 |  1.46303E+02 |  3.32494E+04 |       1 |  0.00000E+00 |  0.00000E+00 |  0.00000E+00\n",
      "   14 |     230 |  1.46303E+02 |  2.53584E+04 |       1 |  0.00000E+00 |  0.00000E+00 |  0.00000E+00\n",
      "   15 |     240 |  1.46303E+02 |  2.02417E+04 |       1 |  0.00000E+00 |  0.00000E+00 |  0.00000E+00\n",
      "   16 |     250 |  2.78967E+01 |  1.63260E+04 |       1 |  1.16276E+02 |  1.16276E+02 |  1.64416E+32\n",
      "   17 |     260 |  2.78967E+01 |  1.28564E+04 |       1 |  0.00000E+00 |  0.00000E+00 |  0.00000E+00\n",
      "   18 |     270 |  2.78967E+01 |  9.73242E+03 |       1 |  0.00000E+00 |  0.00000E+00 |  0.00000E+00\n",
      "   19 |     280 |  2.78967E+01 |  7.68651E+03 |       1 |  0.00000E+00 |  0.00000E+00 |  0.00000E+00\n",
      "   20 |     290 |  2.78967E+01 |  6.28154E+03 |       1 |  0.00000E+00 |  0.00000E+00 |  0.00000E+00\n",
      "   21 |     300 |  2.78967E+01 |  4.72225E+03 |       1 |  0.00000E+00 |  0.00000E+00 |  0.00000E+00\n",
      "   22 |     310 |  2.78967E+01 |  3.94715E+03 |       1 |  0.00000E+00 |  0.00000E+00 |  0.00000E+00\n",
      "   23 |     320 |  2.78967E+01 |  3.27164E+03 |       1 |  0.00000E+00 |  0.00000E+00 |  0.00000E+00\n",
      "   24 |     330 |  1.13551E+01 |  2.40699E+03 |       1 |  1.61825E+01 |  1.61825E+01 |  2.28451E+31\n",
      "   25 |     340 |  1.13551E+01 |  1.82053E+03 |       1 |  0.00000E+00 |  0.00000E+00 |  0.00000E+00\n",
      "   26 |     350 |  1.13551E+01 |  1.20009E+03 |       1 |  0.00000E+00 |  0.00000E+00 |  0.00000E+00\n",
      "   27 |     360 |  1.13551E+01 |  9.03570E+02 |       1 |  0.00000E+00 |  0.00000E+00 |  0.00000E+00\n",
      "   28 |     370 |  1.13551E+01 |  7.46782E+02 |       1 |  0.00000E+00 |  0.00000E+00 |  0.00000E+00\n",
      "   29 |     380 |  8.511387601 |  6.31494E+02 |       1 |  2.753952847 |  2.753952847 |  3.88315E+30\n",
      "   30 |     390 |  1.374041829 |  5.06815E+02 |       1 |  7.071613905 |  7.071613905 |  9.97654E+30\n",
      "   31 |     400 |  1.374041829 |  4.25585E+02 |       1 |  0.00000E+00 |  0.00000E+00 |  0.00000E+00\n",
      "   32 |     410 |  1.374041829 |  3.49265E+02 |       1 |  0.00000E+00 |  0.00000E+00 |  0.00000E+00\n",
      "   33 |     420 |  1.374041829 |  2.98092E+02 |       1 |  0.00000E+00 |  0.00000E+00 |  0.00000E+00\n",
      "   34 |     430 |  1.374041829 |  2.62936E+02 |       1 |  0.00000E+00 |  0.00000E+00 |  0.00000E+00\n",
      "   35 |     440 |  1.374041829 |  2.13777E+02 |       1 |  0.00000E+00 |  0.00000E+00 |  0.00000E+00\n",
      "   36 |     450 |  0.177693628 |  1.63929E+02 |       1 |  1.292107614 |  1.292107614 |  1.80656E+30\n",
      "   37 |     460 |  0.177693628 |  1.13933E+02 |       1 |  0.00000E+00 |  0.00000E+00 |  0.00000E+00\n",
      "   38 |     470 |  0.177693628 |  7.41175E+01 |       1 |  0.00000E+00 |  0.00000E+00 |  0.00000E+00\n",
      "   39 |     480 |  0.177693628 |  5.04751E+01 |       1 |  0.00000E+00 |  0.00000E+00 |  0.00000E+00\n",
      "   40 |     490 |  0.177693628 |  3.53657E+01 |       1 |  0.00000E+00 |  0.00000E+00 |  0.00000E+00\n",
      "   41 |     500 |  0.177693628 |  2.75093E+01 |       1 |  0.00000E+00 |  0.00000E+00 |  0.00000E+00\n",
      "   42 |     510 |  0.154489421 |  2.41492E+01 |       1 |  0.023204207 |  0.023204207 |  2.41727E+28\n",
      "   43 |     520 |  0.154489421 |  1.96429E+01 |       1 |  0.00000E+00 |  0.00000E+00 |  0.00000E+00\n",
      "   44 |     530 |  0.154489421 |  1.63235E+01 |       1 |  0.00000E+00 |  0.00000E+00 |  0.00000E+00\n",
      "   45 |     540 |  0.154489421 |  1.35808E+01 |       1 |  0.00000E+00 |  0.00000E+00 |  0.00000E+00\n",
      "   46 |     550 |  0.154489421 |  1.07222E+01 |       1 |  0.00000E+00 |  0.00000E+00 |  0.00000E+00\n",
      "   47 |     560 |  0.137897586 |  9.019819225 |       1 |  0.038165145 |  0.038165145 |  4.54595E+28\n",
      "   48 |     570 |  0.136002115 |  7.048841802 |       1 |  0.027843388 |  0.027843388 |  3.81977E+28\n",
      "   49 |     580 |  0.115176789 |  5.638143542 |       1 |  0.058122197 |  0.058122197 |  6.86949E+28\n",
      "   50 |     590 |  0.115176789 |  4.508418798 |       1 |  0.00000E+00 |  0.00000E+00 |  0.00000E+00\n",
      "   51 |     600 |  0.098511997 |  3.704010989 |       1 |  0.023313572 |  0.023313572 |  3.08019E+28\n",
      "   52 |     610 |  0.098511997 |  2.745699355 |       1 |  0.00000E+00 |  0.00000E+00 |  0.00000E+00\n",
      "   53 |     620 |  0.098511997 |  2.232851355 |       1 |  0.00000E+00 |  0.00000E+00 |  0.00000E+00\n",
      "   54 |     630 |  0.098511997 |  1.671542875 |       1 |  0.00000E+00 |  0.00000E+00 |  0.00000E+00\n",
      "   55 |     640 |  0.098511997 |  1.200550856 |       1 |  0.00000E+00 |  0.00000E+00 |  0.00000E+00\n",
      "   56 |     650 |  0.098511997 |  1.042348586 |       1 |  0.00000E+00 |  0.00000E+00 |  0.00000E+00\n",
      "   57 |     660 |  0.073342189 |  0.920865965 |       1 |  0.014569656 |  0.014569656 |  2.29863E+28\n",
      "   58 |     670 |  0.073342189 |  0.854321951 |       1 |  0.00000E+00 |  0.00000E+00 |  0.00000E+00\n",
      "   59 |     680 |  0.073342189 |  0.779136780 |       1 |  0.00000E+00 |  0.00000E+00 |  0.00000E+00\n",
      "   60 |     690 |  0.073342189 |  0.714460416 |       1 |  0.00000E+00 |  0.00000E+00 |  0.00000E+00\n",
      "   61 |     700 |  0.073342189 |  0.636507684 |       1 |  0.00000E+00 |  0.00000E+00 |  0.00000E+00\n",
      "   62 |     710 |  0.073342189 |  0.576838874 |       1 |  0.00000E+00 |  0.00000E+00 |  0.00000E+00\n",
      "   63 |     720 |  0.073342189 |  0.504145101 |       1 |  0.00000E+00 |  0.00000E+00 |  0.00000E+00\n",
      "   64 |     730 |  0.073342189 |  0.432068033 |       1 |  0.00000E+00 |  0.00000E+00 |  0.00000E+00\n",
      "   65 |     740 |  0.073342189 |  0.370601728 |       1 |  0.00000E+00 |  0.00000E+00 |  0.00000E+00\n",
      "   66 |     750 |  0.073342189 |  0.320082653 |       1 |  0.00000E+00 |  0.00000E+00 |  0.00000E+00\n",
      "   67 |     760 |  0.062831971 |  0.265013657 |       1 |  0.014332698 |  0.014332698 |  1.50882E+28\n",
      "   68 |     770 |  0.062831971 |  0.230312948 |       1 |  0.00000E+00 |  0.00000E+00 |  0.00000E+00\n",
      "   69 |     780 |  0.054235427 |  0.191849736 |       1 |  0.018849598 |  0.018849598 |  2.66488E+28\n",
      "   70 |     790 |  0.054235427 |  0.167687294 |       1 |  0.00000E+00 |  0.00000E+00 |  0.00000E+00\n",
      "   71 |     800 |  0.054235427 |  0.150133781 |       1 |  0.00000E+00 |  0.00000E+00 |  0.00000E+00\n",
      "   72 |     810 |  0.054235427 |  0.137644587 |       1 |  0.00000E+00 |  0.00000E+00 |  0.00000E+00\n",
      "   73 |     820 |  0.054235427 |  0.131859934 |       1 |  0.00000E+00 |  0.00000E+00 |  0.00000E+00\n",
      "   74 |     830 |  0.054235427 |  0.125593326 |       1 |  0.00000E+00 |  0.00000E+00 |  0.00000E+00\n",
      "   75 |     840 |  0.054235427 |  0.118788877 |       1 |  0.00000E+00 |  0.00000E+00 |  0.00000E+00\n",
      "   76 |     850 |  0.009825077 |  0.113750278 |       1 |  0.044410350 |  0.044410350 |  4.53320E+28\n",
      "   77 |     860 |  0.009825077 |  0.109021580 |       1 |  0.00000E+00 |  0.00000E+00 |  0.00000E+00\n",
      "   78 |     870 |  0.009825077 |  0.105779571 |       1 |  0.00000E+00 |  0.00000E+00 |  0.00000E+00\n",
      "   79 |     880 |  0.009825077 |  0.100803234 |       1 |  0.00000E+00 |  0.00000E+00 |  0.00000E+00\n",
      "   80 |     890 |  0.009825077 |  0.096394348 |       1 |  0.00000E+00 |  0.00000E+00 |  0.00000E+00\n",
      "   81 |     900 |  0.009825077 |  0.091788492 |       1 |  0.00000E+00 |  0.00000E+00 |  0.00000E+00\n",
      "   82 |     910 |  0.009825077 |  0.087656087 |       1 |  0.00000E+00 |  0.00000E+00 |  0.00000E+00\n",
      "   83 |     920 |  0.009825077 |  0.085694183 |       1 |  0.00000E+00 |  0.00000E+00 |  0.00000E+00\n",
      "   84 |     930 |  0.009825077 |  0.081489605 |       1 |  0.00000E+00 |  0.00000E+00 |  0.00000E+00\n",
      "   85 |     940 |  0.009825077 |  0.077990390 |       1 |  0.00000E+00 |  0.00000E+00 |  0.00000E+00\n",
      "   86 |     950 |  0.009825077 |  0.075186787 |       1 |  0.00000E+00 |  0.00000E+00 |  0.00000E+00\n",
      "   87 |     960 |  0.009825077 |  0.072459006 |       1 |  0.00000E+00 |  0.00000E+00 |  0.00000E+00\n",
      "   88 |     970 |  0.009825077 |  0.069649472 |       1 |  0.00000E+00 |  0.00000E+00 |  0.00000E+00\n"
     ]
    },
    {
     "name": "stdout",
     "output_type": "stream",
     "text": [
      "   89 |     980 |  0.00000E+00 |  0.064566382 |       1 |  0.033942222 |  0.033942222 |  3.50786E+28\n",
      "   90 |     990 |  0.00000E+00 |  0.061930149 |       1 |  0.00000E+00 |  0.00000E+00 |  0.00000E+00\n",
      "   91 |    1000 |  0.00000E+00 |  0.058693532 |       1 |  0.00000E+00 |  0.00000E+00 |  0.00000E+00\n",
      "   92 |    1010 |  0.00000E+00 |  0.055300320 |       2 |  1.000000000 |  1.000000000 |  0.866025404\n",
      "   93 |    1020 |  0.00000E+00 |  0.052036014 |       3 |  0.398441420 |  0.999088091 |  0.487879547\n",
      "   94 |    1030 |  0.00000E+00 |  0.049218844 |       3 |  0.00000E+00 |  0.00000E+00 |  0.00000E+00\n",
      "   95 |    1040 |  0.00000E+00 |  0.046180644 |       3 |  0.00000E+00 |  0.00000E+00 |  0.00000E+00\n",
      "   96 |    1050 |  0.00000E+00 |  0.043920441 |       4 |  0.273106021 |  0.00000E+00 |  0.140813837\n",
      "   97 |    1060 |  0.00000E+00 |  0.041569438 |       5 |  0.00000E+00 |  0.435849803 |  0.174401738\n",
      "   98 |    1070 |  0.00000E+00 |  0.039211863 |       5 |  0.00000E+00 |  0.00000E+00 |  0.00000E+00\n",
      "   99 |    1080 |  0.00000E+00 |  0.037605080 |       5 |  0.00000E+00 |  0.00000E+00 |  0.00000E+00\n",
      "  100 |    1090 |  0.00000E+00 |  0.033675225 |       7 |  0.242581407 |  0.00000E+00 |  0.058095621\n",
      "  101 |    1100 |  0.00000E+00 |  0.030435052 |       8 |  0.00000E+00 |  0.00000E+00 |  0.074200184\n",
      "  102 |    1110 |  0.00000E+00 |  0.028301619 |       9 |  0.343330698 |  0.321851474 |  0.069061889\n",
      "  103 |    1120 |  0.00000E+00 |  0.024711536 |       4 |  0.135571705 |  0.803749055 |  0.125083613\n",
      "  104 |    1130 |  0.00000E+00 |  0.020720394 |       6 |  0.260358042 |  0.158535346 |  0.106258715\n",
      "  105 |    1140 |  0.00000E+00 |  0.017174648 |       7 |  0.00000E+00 |  0.018886705 |  0.027830783\n",
      "  106 |    1150 |  0.00000E+00 |  0.014765461 |       7 |  0.00000E+00 |  0.00000E+00 |  0.00000E+00\n",
      "  107 |    1160 |  0.00000E+00 |  0.012160572 |      10 |  0.124012882 |  0.415901860 |  0.072910682\n",
      "  108 |    1170 |  0.00000E+00 |  0.009954210 |      12 |  0.000250062 |  0.00000E+00 |  0.030205715\n",
      "  109 |    1180 |  0.00000E+00 |  0.008724093 |      12 |  0.00000E+00 |  0.00000E+00 |  0.033404733\n",
      "  110 |    1190 |  0.00000E+00 |  0.006658753 |      16 |  0.021234013 |  0.032358107 |  0.029385627\n",
      "  111 |    1200 |  0.00000E+00 |  0.004567654 |      17 |  0.00000E+00 |  0.00000E+00 |  0.000036644\n",
      "  112 |    1210 |  0.00000E+00 |  0.003676175 |      15 |  0.042554194 |  0.069236041 |  0.024366328\n",
      "  113 |    1220 |  0.00000E+00 |  0.002794388 |      19 |  0.00000E+00 |  0.017897844 |  0.029525351\n",
      "  114 |    1230 |  0.00000E+00 |  0.002244943 |      22 |  0.00000E+00 |  0.00000E+00 |  0.015758901\n",
      "  115 |    1240 |  0.00000E+00 |  0.001831339 |      24 |  0.201508252 |  0.064693687 |  0.029766239\n",
      "  116 |    1250 |  0.00000E+00 |  0.001141388 |      17 |  0.004963816 |  0.060824069 |  0.033688268\n",
      "  117 |    1260 |  0.00000E+00 |  0.000504204 |      16 |  0.00000E+00 |  0.00000E+00 |  0.027671666\n",
      "  118 |    1270 |  0.00000E+00 |  0.000092467 |      20 |  0.048365652 |  0.047163672 |  0.018489665\n",
      "  119 |    1280 |  0.00000E+00 |  6.39864E-06 |      24 |  0.000499766 |  0.088107262 |  0.009829663\n",
      "  120 |    1290 |  0.00000E+00 |  0.00000E+00 |      25 |  0.00000E+00 |  0.00000E+00 |  0.001886581\n",
      "  121 |    1300 |  0.00000E+00 |  0.00000E+00 |      28 |  0.102836144 |  0.00000E+00 |  0.017801193\n",
      "  122 |    1310 |  0.00000E+00 |  0.00000E+00 |      31 |  0.00000E+00 |  0.00000E+00 |  0.019993475\n",
      "  123 |    1320 |  0.00000E+00 |  0.00000E+00 |      36 |  0.132826086 |  0.282207322 |  0.017269113\n",
      "  124 |    1330 |  0.00000E+00 |  0.00000E+00 |      38 |  0.00000E+00 |  0.061585450 |  0.005122992\n",
      "  125 |    1340 |  0.00000E+00 |  0.00000E+00 |      41 |  0.00000E+00 |  0.134175300 |  0.014272358\n",
      "  126 |    1350 |  0.00000E+00 |  0.00000E+00 |      40 |  0.00000E+00 |  0.154968206 |  0.011976025\n",
      "  127 |    1360 |  0.00000E+00 |  0.00000E+00 |      44 |  0.00000E+00 |  0.00000E+00 |  0.010281438\n",
      "  128 |    1370 |  0.00000E+00 |  0.00000E+00 |      46 |  0.00000E+00 |  0.153020452 |  0.004194067\n",
      "  129 |    1380 |  0.00000E+00 |  0.00000E+00 |      48 |  0.078660424 |  0.126826824 |  0.019182880\n",
      "  130 |    1390 |  0.00000E+00 |  0.00000E+00 |      49 |  0.00000E+00 |  0.00000E+00 |  0.000079047\n"
     ]
    }
   ],
   "source": [
    "#running minimize problem\n",
    "problem = AdaptationProblem()\n",
    "\n",
    "res = minimize(problem,\n",
    "               algorithm,\n",
    "               termination,\n",
    "               save_history=True,\n",
    "               verbose=True\n",
    "              )"
   ]
  },
  {
   "cell_type": "code",
   "execution_count": null,
   "metadata": {},
   "outputs": [],
   "source": []
  },
  {
   "cell_type": "code",
   "execution_count": null,
   "metadata": {},
   "outputs": [],
   "source": []
  },
  {
   "cell_type": "code",
   "execution_count": 9,
   "metadata": {},
   "outputs": [
    {
     "ename": "AttributeError",
     "evalue": "'Axes3D' object has no attribute 'xlabel'",
     "output_type": "error",
     "traceback": [
      "\u001b[0;31m---------------------------------------------------------------------------\u001b[0m",
      "\u001b[0;31mAttributeError\u001b[0m                            Traceback (most recent call last)",
      "\u001b[0;32m<ipython-input-9-43e1a1f1aa8b>\u001b[0m in \u001b[0;36m<module>\u001b[0;34m\u001b[0m\n\u001b[1;32m     17\u001b[0m \u001b[0;34m\u001b[0m\u001b[0m\n\u001b[1;32m     18\u001b[0m \u001b[0max\u001b[0m\u001b[0;34m.\u001b[0m\u001b[0mscatter\u001b[0m\u001b[0;34m(\u001b[0m\u001b[0msequence_containing_x_vals\u001b[0m\u001b[0;34m,\u001b[0m \u001b[0msequence_containing_y_vals\u001b[0m\u001b[0;34m,\u001b[0m \u001b[0msequence_containing_z_vals\u001b[0m\u001b[0;34m)\u001b[0m\u001b[0;34m\u001b[0m\u001b[0;34m\u001b[0m\u001b[0m\n\u001b[0;32m---> 19\u001b[0;31m \u001b[0max\u001b[0m\u001b[0;34m.\u001b[0m\u001b[0mxlabel\u001b[0m\u001b[0;34m(\u001b[0m\u001b[0;34m\"ps\"\u001b[0m\u001b[0;34m)\u001b[0m\u001b[0;34m\u001b[0m\u001b[0;34m\u001b[0m\u001b[0m\n\u001b[0m\u001b[1;32m     20\u001b[0m \u001b[0mpyplot\u001b[0m\u001b[0;34m.\u001b[0m\u001b[0mshow\u001b[0m\u001b[0;34m(\u001b[0m\u001b[0;34m)\u001b[0m\u001b[0;34m\u001b[0m\u001b[0;34m\u001b[0m\u001b[0m\n",
      "\u001b[0;31mAttributeError\u001b[0m: 'Axes3D' object has no attribute 'xlabel'"
     ]
    },
    {
     "data": {
      "image/png": "[encoded data removed]",
      "text/plain": [
       "<Figure size 432x288 with 1 Axes>"
      ]
     },
     "metadata": {
      "needs_background": "light"
     },
     "output_type": "display_data"
    }
   ],
   "source": [
    "from matplotlib import pyplot\n",
    "from mpl_toolkits.mplot3d import Axes3D\n",
    "import random\n",
    "\n",
    "\n",
    "fig = pyplot.figure()\n",
    "ax = Axes3D(fig)\n",
    "f = -1*res.F\n",
    "\n",
    "sequence_containing_x_vals = f[:,0]\n",
    "sequence_containing_y_vals = f[:,1]\n",
    "sequence_containing_z_vals = f[:,2]\n",
    "\n",
    "random.shuffle(sequence_containing_x_vals)\n",
    "random.shuffle(sequence_containing_y_vals)\n",
    "random.shuffle(sequence_containing_z_vals)\n",
    "\n",
    "ax.scatter(sequence_containing_x_vals, sequence_containing_y_vals, sequence_containing_z_vals)\n",
    "pyplot.show()"
   ]
  },
  {
   "cell_type": "code",
   "execution_count": 213,
   "metadata": {},
   "outputs": [],
   "source": [
    "# collect the population in each generation\n",
    "pop_each_gen = [a.pop for a in res.history]\n",
    "\n",
    "# receive the population in each generation\n",
    "obj_and_feasible_each_gen = [pop[pop.get(\"feasible\")[:,0]].get(\"F\") for pop in pop_each_gen]\n"
   ]
  },
  {
   "cell_type": "code",
   "execution_count": 214,
   "metadata": {},
   "outputs": [],
   "source": [
    "X = np.array([pop.get(\"X\") for pop in pop_each_gen])\n",
    "G = np.array([pop.get(\"G\") for pop in pop_each_gen])\n",
    "F = np.array([pop.get(\"F\") for pop in pop_each_gen])"
   ]
  },
  {
   "cell_type": "code",
   "execution_count": 227,
   "metadata": {},
   "outputs": [],
   "source": [
    "gen = 129"
   ]
  },
  {
   "cell_type": "code",
   "execution_count": 228,
   "metadata": {},
   "outputs": [
    {
     "data": {
      "text/plain": [
       "Text(0, 0.5, '-pi_s')"
      ]
     },
     "execution_count": 228,
     "metadata": {},
     "output_type": "execute_result"
    },
    {
     "data": {
      "image/png": "[encoded data removed]",
      "text/plain": [
       "<Figure size 432x288 with 1 Axes>"
      ]
     },
     "metadata": {
      "needs_background": "light"
     },
     "output_type": "display_data"
    }
   ],
   "source": [
    "plt.scatter(G[gen][:,0],G[gen][:,1])\n",
    "plt.xlabel(\"p_s - y*RPM/1000\")\n",
    "plt.ylabel(\"-pi_s\")"
   ]
  },
  {
   "cell_type": "code",
   "execution_count": 229,
   "metadata": {},
   "outputs": [
    {
     "data": {
      "text/plain": [
       "Text(0, 0.5, '0.8-U')"
      ]
     },
     "execution_count": 229,
     "metadata": {},
     "output_type": "execute_result"
    },
    {
     "data": {
      "image/png": "[encoded data removed]",
      "text/plain": [
       "<Figure size 432x288 with 1 Axes>"
      ]
     },
     "metadata": {
      "needs_background": "light"
     },
     "output_type": "display_data"
    }
   ],
   "source": [
    "plt.scatter(G[gen][:,2],G[gen][:,3])\n",
    "plt.xlabel(\"-pi_a\")\n",
    "plt.ylabel(\"0.8-U\")"
   ]
  },
  {
   "cell_type": "code",
   "execution_count": 230,
   "metadata": {},
   "outputs": [
    {
     "data": {
      "text/plain": [
       "Text(0, 0.5, 'W')"
      ]
     },
     "execution_count": 230,
     "metadata": {},
     "output_type": "execute_result"
    },
    {
     "data": {
      "image/png": "[encoded data removed]",
      "text/plain": [
       "<Figure size 432x288 with 1 Axes>"
      ]
     },
     "metadata": {
      "needs_background": "light"
     },
     "output_type": "display_data"
    }
   ],
   "source": [
    "plt.scatter(X[gen][:,0],X[gen][:,1])\n",
    "plt.xlabel(\"p_s\")\n",
    "plt.ylabel(\"W\")"
   ]
  },
  {
   "cell_type": "code",
   "execution_count": 231,
   "metadata": {},
   "outputs": [
    {
     "data": {
      "text/plain": [
       "Text(0, 0.5, 'gamma')"
      ]
     },
     "execution_count": 231,
     "metadata": {},
     "output_type": "execute_result"
    },
    {
     "data": {
      "image/png": "[encoded data removed]",
      "text/plain": [
       "<Figure size 432x288 with 1 Axes>"
      ]
     },
     "metadata": {
      "needs_background": "light"
     },
     "output_type": "display_data"
    }
   ],
   "source": [
    "plt.scatter(X[gen][:,1],X[gen][:,2])\n",
    "plt.xlabel(\"W\")\n",
    "plt.ylabel(\"gamma\")"
   ]
  },
  {
   "cell_type": "code",
   "execution_count": null,
   "metadata": {},
   "outputs": [],
   "source": []
  },
  {
   "cell_type": "code",
   "execution_count": null,
   "metadata": {},
   "outputs": [],
   "source": []
  },
  {
   "cell_type": "code",
   "execution_count": 173,
   "metadata": {},
   "outputs": [],
   "source": [
    "pr = AdaptationProblem(landa=250,n=0.1,R_l=1,R_u=200,d_l=10,d_u=200)"
   ]
  },
  {
   "cell_type": "code",
   "execution_count": 174,
   "metadata": {},
   "outputs": [
    {
     "name": "stdout",
     "output_type": "stream",
     "text": [
      "====================================================================================================\n",
      "n_gen |  n_eval |   cv (min)   |   cv (avg)   |  n_nds  | delta_ideal  | delta_nadir  |   delta_f   \n",
      "====================================================================================================\n",
      "    1 |     100 |  3.07085E+04 |  1.27245E+06 |       1 |            - |            - |            -\n",
      "    2 |     110 |  3.07085E+04 |  1.10261E+06 |       1 |  0.00000E+00 |  0.00000E+00 |  0.00000E+00\n",
      "    3 |     120 |  3.07085E+04 |  9.87995E+05 |       1 |  0.00000E+00 |  0.00000E+00 |  0.00000E+00\n",
      "    4 |     130 |  3.07085E+04 |  8.73928E+05 |       1 |  0.00000E+00 |  0.00000E+00 |  0.00000E+00\n",
      "    5 |     140 |  3.07085E+04 |  7.80080E+05 |       1 |  0.00000E+00 |  0.00000E+00 |  0.00000E+00\n",
      "    6 |     150 |  9.93616E+03 |  6.80111E+05 |       1 |  2.06901E+04 |  2.06901E+04 |  2.92598E+34\n",
      "    7 |     160 |  9.93616E+03 |  5.95757E+05 |       1 |  0.00000E+00 |  0.00000E+00 |  0.00000E+00\n",
      "    8 |     170 |  9.93616E+03 |  5.23672E+05 |       1 |  0.00000E+00 |  0.00000E+00 |  0.00000E+00\n",
      "    9 |     180 |  9.93615E+03 |  4.62741E+05 |       1 |  0.017115468 |  0.017115468 |  1.71354E+28\n",
      "   10 |     190 |  9.93615E+03 |  4.09801E+05 |       1 |  0.00000E+00 |  0.00000E+00 |  0.00000E+00\n",
      "   11 |     200 |  9.93615E+03 |  3.56372E+05 |       1 |  0.00000E+00 |  0.00000E+00 |  0.00000E+00\n",
      "   12 |     210 |  9.93615E+03 |  3.17834E+05 |       1 |  0.00000E+00 |  0.00000E+00 |  0.00000E+00\n",
      "   13 |     220 |  9.93615E+03 |  2.80722E+05 |       1 |  0.00000E+00 |  0.00000E+00 |  0.00000E+00\n",
      "   14 |     230 |  9.93615E+03 |  2.42249E+05 |       1 |  0.00000E+00 |  0.00000E+00 |  0.00000E+00\n",
      "   15 |     240 |  9.93611E+03 |  2.01744E+05 |       1 |  0.037632342 |  0.037632342 |  4.14405E+28\n",
      "   16 |     250 |  9.93611E+03 |  1.69880E+05 |       1 |  0.00000E+00 |  0.00000E+00 |  0.00000E+00\n",
      "   17 |     260 |  9.93611E+03 |  1.43848E+05 |       1 |  0.00000E+00 |  0.00000E+00 |  0.00000E+00\n",
      "   18 |     270 |  9.93611E+03 |  1.26814E+05 |       1 |  0.00000E+00 |  0.00000E+00 |  0.00000E+00\n",
      "   19 |     280 |  1.72627E+03 |  1.08312E+05 |       1 |  8.17713E+03 |  8.17713E+03 |  1.15642E+34\n",
      "   20 |     290 |  1.72627E+03 |  9.04653E+04 |       1 |  0.00000E+00 |  0.00000E+00 |  0.00000E+00\n",
      "   21 |     300 |  1.42245E+03 |  7.30593E+04 |       1 |  3.02719E+02 |  3.02719E+02 |  4.28035E+32\n",
      "   22 |     310 |  1.42245E+03 |  5.63552E+04 |       1 |  0.00000E+00 |  0.00000E+00 |  0.00000E+00\n",
      "   23 |     320 |  1.42245E+03 |  4.20324E+04 |       1 |  0.00000E+00 |  0.00000E+00 |  0.00000E+00\n",
      "   24 |     330 |  1.42245E+03 |  3.40210E+04 |       1 |  0.00000E+00 |  0.00000E+00 |  0.00000E+00\n",
      "   25 |     340 |  1.42245E+03 |  3.00589E+04 |       1 |  0.00000E+00 |  0.00000E+00 |  0.00000E+00\n",
      "   26 |     350 |  8.56626E+02 |  2.60800E+04 |       1 |  5.63874E+02 |  5.63874E+02 |  7.96560E+32\n",
      "   27 |     360 |  7.81947E+02 |  2.18168E+04 |       1 |  7.52255E+01 |  7.52255E+01 |  1.05574E+32\n",
      "   28 |     370 |  7.81947E+02 |  1.84552E+04 |       1 |  0.00000E+00 |  0.00000E+00 |  0.00000E+00\n",
      "   29 |     380 |  7.08396E+02 |  1.53343E+04 |       1 |  7.35351E+01 |  7.35351E+01 |  1.03243E+32\n",
      "   30 |     390 |  7.08396E+02 |  1.32395E+04 |       1 |  0.00000E+00 |  0.00000E+00 |  0.00000E+00\n",
      "   31 |     400 |  5.91872E+02 |  1.19111E+04 |       1 |  1.16817E+02 |  1.16817E+02 |  1.64475E+32\n",
      "   32 |     410 |  4.36294E+02 |  1.03785E+04 |       1 |  1.54959E+02 |  1.54959E+02 |  2.19145E+32\n",
      "   33 |     420 |  4.36294E+02 |  9.01982E+03 |       1 |  0.00000E+00 |  0.00000E+00 |  0.00000E+00\n",
      "   34 |     430 |  4.36294E+02 |  8.33298E+03 |       1 |  0.00000E+00 |  0.00000E+00 |  0.00000E+00\n",
      "   35 |     440 |  4.36294E+02 |  7.67369E+03 |       1 |  0.00000E+00 |  0.00000E+00 |  0.00000E+00\n",
      "   36 |     450 |  4.36294E+02 |  7.33808E+03 |       1 |  0.00000E+00 |  0.00000E+00 |  0.00000E+00\n",
      "   37 |     460 |  6.53228E+01 |  6.93734E+03 |       1 |  3.69616E+02 |  3.69616E+02 |  5.22629E+32\n",
      "   38 |     470 |  1.00337E+01 |  6.45485E+03 |       1 |  5.50688E+01 |  5.50688E+01 |  7.78713E+31\n",
      "   39 |     480 |  1.00337E+01 |  5.78162E+03 |       1 |  0.00000E+00 |  0.00000E+00 |  0.00000E+00\n",
      "   40 |     490 |  1.00337E+01 |  5.62552E+03 |       1 |  0.00000E+00 |  0.00000E+00 |  0.00000E+00\n",
      "   41 |     500 |  1.00337E+01 |  5.12745E+03 |       1 |  0.00000E+00 |  0.00000E+00 |  0.00000E+00\n",
      "   42 |     510 |  9.924706275 |  4.51908E+03 |       1 |  0.108554598 |  0.108554598 |  1.11407E+29\n",
      "   43 |     520 |  9.924706275 |  4.01217E+03 |       1 |  0.00000E+00 |  0.00000E+00 |  0.00000E+00\n",
      "   44 |     530 |  9.194333318 |  3.38440E+03 |       1 |  0.967677967 |  0.967677967 |  1.01805E+30\n",
      "   45 |     540 |  6.029147923 |  2.85207E+03 |       1 |  3.152575095 |  3.152575095 |  4.45841E+30\n",
      "   46 |     550 |  6.029147923 |  2.28752E+03 |       1 |  0.00000E+00 |  0.00000E+00 |  0.00000E+00\n",
      "   47 |     560 |  6.029147923 |  1.85608E+03 |       1 |  0.00000E+00 |  0.00000E+00 |  0.00000E+00\n",
      "   48 |     570 |  6.029147923 |  1.47454E+03 |       1 |  0.00000E+00 |  0.00000E+00 |  0.00000E+00\n",
      "   49 |     580 |  6.029147923 |  1.08713E+03 |       1 |  0.00000E+00 |  0.00000E+00 |  0.00000E+00\n",
      "   50 |     590 |  6.026565344 |  7.27320E+02 |       1 |  0.002582579 |  0.002582579 |  2.60084E+27\n",
      "   51 |     600 |  6.026565344 |  5.67684E+02 |       1 |  0.00000E+00 |  0.00000E+00 |  0.00000E+00\n",
      "   52 |     610 |  5.939352052 |  4.66179E+02 |       1 |  0.155590423 |  0.155590423 |  1.70212E+29\n",
      "   53 |     620 |  5.939352052 |  3.94144E+02 |       1 |  0.00000E+00 |  0.00000E+00 |  0.00000E+00\n",
      "   54 |     630 |  2.195181220 |  3.11496E+02 |       1 |  3.817413850 |  3.817413850 |  5.28905E+30\n",
      "   55 |     640 |  2.195181220 |  2.55849E+02 |       1 |  0.00000E+00 |  0.00000E+00 |  0.00000E+00\n",
      "   56 |     650 |  2.192240508 |  1.89043E+02 |       1 |  0.007374169 |  0.007374169 |  8.64535E+27\n",
      "   57 |     660 |  2.192240508 |  1.36937E+02 |       1 |  0.00000E+00 |  0.00000E+00 |  0.00000E+00\n",
      "   58 |     670 |  2.152570445 |  8.85911E+01 |       1 |  0.065824419 |  0.065824419 |  7.09331E+28\n",
      "   59 |     680 |  2.152570445 |  6.71971E+01 |       1 |  0.00000E+00 |  0.00000E+00 |  0.00000E+00\n",
      "   60 |     690 |  1.380198190 |  4.40404E+01 |       1 |  1.495554661 |  1.495554661 |  1.61040E+30\n",
      "   61 |     700 |  1.380198190 |  3.30554E+01 |       1 |  0.00000E+00 |  0.00000E+00 |  0.00000E+00\n",
      "   62 |     710 |  0.435320816 |  2.85042E+01 |       1 |  0.981216232 |  0.981216232 |  1.35977E+30\n",
      "   63 |     720 |  0.435320816 |  2.33526E+01 |       1 |  0.00000E+00 |  0.00000E+00 |  0.00000E+00\n",
      "   64 |     730 |  0.435320816 |  1.91544E+01 |       1 |  0.00000E+00 |  0.00000E+00 |  0.00000E+00\n",
      "   65 |     740 |  0.435320816 |  1.64535E+01 |       1 |  0.00000E+00 |  0.00000E+00 |  0.00000E+00\n",
      "   66 |     750 |  0.435320816 |  1.39735E+01 |       1 |  0.00000E+00 |  0.00000E+00 |  0.00000E+00\n",
      "   67 |     760 |  0.00000E+00 |  1.12160E+01 |       2 |  1.96427E+01 |  2.06427E+01 |  2.04292E+01\n",
      "   68 |     770 |  0.00000E+00 |  8.654031448 |       2 |  0.00000E+00 |  0.00000E+00 |  0.00000E+00\n",
      "   69 |     780 |  0.00000E+00 |  6.718326318 |       3 |  0.00000E+00 |  0.695256399 |  0.331524585\n",
      "   70 |     790 |  0.00000E+00 |  6.109809397 |       3 |  0.00000E+00 |  0.00000E+00 |  0.00000E+00\n",
      "   71 |     800 |  0.00000E+00 |  5.324915500 |       4 |  0.670651271 |  0.415842475 |  0.222210918\n",
      "   72 |     810 |  0.00000E+00 |  4.767046667 |       5 |  0.00000E+00 |  0.00000E+00 |  0.050986613\n",
      "   73 |     820 |  0.00000E+00 |  4.355279209 |       5 |  0.00000E+00 |  0.00000E+00 |  0.00000E+00\n",
      "   74 |     830 |  0.00000E+00 |  3.694473620 |       6 |  0.00000E+00 |  0.00000E+00 |  0.053976319\n",
      "   75 |     840 |  0.00000E+00 |  3.276879836 |       8 |  0.035115218 |  0.00000E+00 |  0.009648068\n",
      "   76 |     850 |  0.00000E+00 |  2.759045363 |       9 |  0.00000E+00 |  0.00000E+00 |  0.003886235\n",
      "   77 |     860 |  0.00000E+00 |  2.512433408 |      11 |  0.355220887 |  0.107864683 |  0.066412477\n",
      "   78 |     870 |  0.00000E+00 |  2.141593913 |      12 |  0.00000E+00 |  0.00000E+00 |  0.009650982\n",
      "   79 |     880 |  0.00000E+00 |  1.741504079 |      13 |  0.00000E+00 |  0.00000E+00 |  0.009823280\n",
      "   80 |     890 |  0.00000E+00 |  1.484281631 |      15 |  0.00000E+00 |  0.00000E+00 |  0.021329270\n",
      "   81 |     900 |  0.00000E+00 |  1.066744480 |      16 |  0.00000E+00 |  0.00000E+00 |  0.007586291\n",
      "   82 |     910 |  0.00000E+00 |  0.775775939 |      19 |  0.00000E+00 |  0.00000E+00 |  0.021372773\n",
      "   83 |     920 |  0.00000E+00 |  0.589412544 |      22 |  0.00000E+00 |  0.00000E+00 |  0.023711756\n",
      "   84 |     930 |  0.00000E+00 |  0.464897329 |      24 |  0.00000E+00 |  0.00000E+00 |  0.012814592\n",
      "   85 |     940 |  0.00000E+00 |  0.339503225 |      28 |  0.014092290 |  0.00000E+00 |  0.011852008\n",
      "   86 |     950 |  0.00000E+00 |  0.222767798 |      34 |  0.257338984 |  0.00000E+00 |  0.024295523\n",
      "   87 |     960 |  0.00000E+00 |  0.157091785 |      36 |  0.00000E+00 |  0.00000E+00 |  0.005546160\n",
      "   88 |     970 |  0.00000E+00 |  0.101241977 |      41 |  0.083688848 |  0.080863765 |  0.019525984\n",
      "   89 |     980 |  0.00000E+00 |  0.076415765 |      47 |  0.00000E+00 |  0.00000E+00 |  0.007380057\n",
      "   90 |     990 |  0.00000E+00 |  0.054000283 |      53 |  0.00000E+00 |  0.00000E+00 |  0.011952083\n",
      "   91 |    1000 |  0.00000E+00 |  0.039287575 |      59 |  0.111297543 |  0.00000E+00 |  0.009841489\n",
      "   92 |    1010 |  0.00000E+00 |  0.022033425 |      66 |  0.122149432 |  0.000167975 |  0.006693375\n",
      "   93 |    1020 |  0.00000E+00 |  0.008070520 |      72 |  0.00000E+00 |  0.00000E+00 |  0.004523874\n",
      "   94 |    1030 |  0.00000E+00 |  0.000572718 |      81 |  0.00000E+00 |  0.00000E+00 |  0.004475177\n",
      "   95 |    1040 |  0.00000E+00 |  0.000104277 |      90 |  0.009856630 |  0.006123170 |  0.003917078\n",
      "   96 |    1050 |  0.00000E+00 |  0.00000E+00 |      95 |  0.007819120 |  0.005449403 |  0.001573661\n",
      "   97 |    1060 |  0.00000E+00 |  0.00000E+00 |     100 |  0.00000E+00 |  0.00000E+00 |  0.003780343\n",
      "   98 |    1070 |  0.00000E+00 |  0.00000E+00 |     100 |  0.010240218 |  0.00000E+00 |  0.004658774\n",
      "   99 |    1080 |  0.00000E+00 |  0.00000E+00 |     100 |  0.00000E+00 |  0.00000E+00 |  0.003418422\n",
      "  100 |    1090 |  0.00000E+00 |  0.00000E+00 |     100 |  0.00000E+00 |  0.00000E+00 |  0.002345718\n",
      "  101 |    1100 |  0.00000E+00 |  0.00000E+00 |     100 |  0.000335187 |  0.018329034 |  0.005042661\n",
      "  102 |    1110 |  0.00000E+00 |  0.00000E+00 |     100 |  0.00000E+00 |  0.00000E+00 |  0.002945720\n",
      "  103 |    1120 |  0.00000E+00 |  0.00000E+00 |     100 |  0.002865150 |  0.010866522 |  0.003159034\n",
      "  104 |    1130 |  0.00000E+00 |  0.00000E+00 |     100 |  0.00000E+00 |  0.00000E+00 |  0.001824734\n",
      "  105 |    1140 |  0.00000E+00 |  0.00000E+00 |     100 |  0.00000E+00 |  0.00000E+00 |  0.002112844\n",
      "  106 |    1150 |  0.00000E+00 |  0.00000E+00 |     100 |  0.00000E+00 |  0.00000E+00 |  0.002193801\n",
      "  107 |    1160 |  0.00000E+00 |  0.00000E+00 |     100 |  0.00000E+00 |  0.00000E+00 |  0.001873340\n",
      "  108 |    1170 |  0.00000E+00 |  0.00000E+00 |     100 |  0.00000E+00 |  0.00000E+00 |  0.002434828\n"
     ]
    },
    {
     "name": "stdout",
     "output_type": "stream",
     "text": [
      "  109 |    1180 |  0.00000E+00 |  0.00000E+00 |     100 |  0.00000E+00 |  0.046369838 |  0.002824228\n",
      "  110 |    1190 |  0.00000E+00 |  0.00000E+00 |     100 |  0.00000E+00 |  0.00000E+00 |  0.001536702\n",
      "  111 |    1200 |  0.00000E+00 |  0.00000E+00 |     100 |  0.00000E+00 |  0.00000E+00 |  0.000578334\n",
      "  112 |    1210 |  0.00000E+00 |  0.00000E+00 |     100 |  0.00000E+00 |  0.00000E+00 |  0.001137134\n",
      "  113 |    1220 |  0.00000E+00 |  0.00000E+00 |     100 |  0.000907198 |  0.00000E+00 |  0.002535178\n",
      "  114 |    1230 |  0.00000E+00 |  0.00000E+00 |     100 |  0.00000E+00 |  0.00000E+00 |  0.002415723\n",
      "  115 |    1240 |  0.00000E+00 |  0.00000E+00 |     100 |  0.003513757 |  0.00000E+00 |  0.001390960\n",
      "  116 |    1250 |  0.00000E+00 |  0.00000E+00 |     100 |  0.00000E+00 |  0.00000E+00 |  0.002555013\n",
      "  117 |    1260 |  0.00000E+00 |  0.00000E+00 |     100 |  0.00000E+00 |  0.00000E+00 |  0.003065767\n",
      "  118 |    1270 |  0.00000E+00 |  0.00000E+00 |     100 |  0.00000E+00 |  0.00000E+00 |  0.002861469\n",
      "  119 |    1280 |  0.00000E+00 |  0.00000E+00 |     100 |  0.00000E+00 |  0.00000E+00 |  0.001232753\n",
      "  120 |    1290 |  0.00000E+00 |  0.00000E+00 |     100 |  0.00000E+00 |  0.00000E+00 |  0.000733764\n",
      "  121 |    1300 |  0.00000E+00 |  0.00000E+00 |     100 |  0.00000E+00 |  0.00000E+00 |  0.001822206\n",
      "  122 |    1310 |  0.00000E+00 |  0.00000E+00 |     100 |  0.00000E+00 |  0.00000E+00 |  0.002117726\n",
      "  123 |    1320 |  0.00000E+00 |  0.00000E+00 |     100 |  0.00000E+00 |  0.00000E+00 |  0.001925033\n",
      "  124 |    1330 |  0.00000E+00 |  0.00000E+00 |     100 |  0.00000E+00 |  0.00000E+00 |  0.002739541\n",
      "  125 |    1340 |  0.00000E+00 |  0.00000E+00 |     100 |  0.00000E+00 |  0.00000E+00 |  0.002557328\n",
      "  126 |    1350 |  0.00000E+00 |  0.00000E+00 |     100 |  0.00000E+00 |  0.00000E+00 |  0.002167846\n",
      "  127 |    1360 |  0.00000E+00 |  0.00000E+00 |     100 |  0.00000E+00 |  0.00000E+00 |  0.002219191\n",
      "  128 |    1370 |  0.00000E+00 |  0.00000E+00 |     100 |  0.00000E+00 |  0.00000E+00 |  0.001743161\n",
      "  129 |    1380 |  0.00000E+00 |  0.00000E+00 |     100 |  0.00000E+00 |  0.00000E+00 |  0.001261783\n",
      "  130 |    1390 |  0.00000E+00 |  0.00000E+00 |     100 |  0.00000E+00 |  0.00000E+00 |  0.003366029\n"
     ]
    }
   ],
   "source": [
    "res = minimize(pr,\n",
    "               algorithm,\n",
    "               termination,\n",
    "               save_history=True,\n",
    "               verbose=True\n",
    "              )"
   ]
  },
  {
   "cell_type": "code",
   "execution_count": 243,
   "metadata": {},
   "outputs": [],
   "source": [
    "\n",
    "def choose_on_pf(pareto_f,design_space,w_s=0.33,w_a=0.33,w_u=0.33):\n",
    "    max_values = np.max(pareto_f,axis=0)\n",
    "    arg_max = np.argmax(pareto_f[:,0]*w_s/max_values[0] + pareto_f[:,1]*w_a/max_values[1] + pareto_f[:,2]*w_u/max_values[2])\n",
    "    return tuple(design_space[arg_max])"
   ]
  },
  {
   "cell_type": "code",
   "execution_count": 245,
   "metadata": {},
   "outputs": [],
   "source": [
    "p_s , W , gamma = choose_on_pf(-1*res.F,res.X)"
   ]
  },
  {
   "cell_type": "code",
   "execution_count": 246,
   "metadata": {},
   "outputs": [
    {
     "data": {
      "text/plain": [
       "2.4170121276213963"
      ]
     },
     "execution_count": 246,
     "metadata": {},
     "output_type": "execute_result"
    }
   ],
   "source": []
  },
  {
   "cell_type": "code",
   "execution_count": null,
   "metadata": {},
   "outputs": [],
   "source": []
  }
 ],
 "metadata": {
  "kernelspec": {
   "display_name": "Python 3",
   "language": "python",
   "name": "python3"
  },
  "language_info": {
   "codemirror_mode": {
    "name": "ipython",
    "version": 3
   },
   "file_extension": ".py",
   "mimetype": "text/x-python",
   "name": "python",
   "nbconvert_exporter": "python",
   "pygments_lexer": "ipython3",
   "version": "3.6.8"
  }
 },
 "nbformat": 4,
 "nbformat_minor": 4
}
